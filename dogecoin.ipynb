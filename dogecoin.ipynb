{
 "cells": [
  {
   "cell_type": "markdown",
   "metadata": {
    "id": "a5Xo5GLnrTmb"
   },
   "source": [
    "Introduction to my Doge coin Linear model based on Simple Linear Regression to predicit price of Memecoin which currenctly Trending accross globe due to its exponantial Growth over 3 month time period, We imported our dataset from Crypto Exchange(CoinDCX) and we are using only 3 month data of High and Low of 24H time."
   ]
  },
  {
   "cell_type": "markdown",
   "metadata": {
    "id": "E_J4-Y0grTmd"
   },
   "source": [
    "Importing Required libraries which will help us to achieve end goals."
   ]
  },
  {
   "cell_type": "code",
   "execution_count": 80,
   "metadata": {
    "id": "oqYCf9qcrTme"
   },
   "outputs": [],
   "source": [
    "import numpy as np\n",
    "import pandas as pd\n",
    "from pandas import DataFrame\n",
    "import matplotlib.pyplot as plt\n",
    "from matplotlib import style\n",
    "style.use('ggplot')\n",
    "import seaborn as sns\n"
   ]
  },
  {
   "cell_type": "markdown",
   "metadata": {
    "id": "WAAlBSiCrTmf"
   },
   "source": [
    "We used Pandas module to read CSV file and Created dataset variable to store data which we got from CSV file and access it quickly for Linear model."
   ]
  },
  {
   "cell_type": "code",
   "execution_count": 81,
   "metadata": {
    "colab": {
     "base_uri": "https://localhost:8080/",
     "height": 417
    },
    "id": "QgxUqhMorTmf",
    "outputId": "2e3600c9-f6b7-4785-9dcd-8441e1a3ad7b"
   },
   "outputs": [
    {
     "data": {
      "text/html": [
       "<div>\n",
       "<style scoped>\n",
       "    .dataframe tbody tr th:only-of-type {\n",
       "        vertical-align: middle;\n",
       "    }\n",
       "\n",
       "    .dataframe tbody tr th {\n",
       "        vertical-align: top;\n",
       "    }\n",
       "\n",
       "    .dataframe thead th {\n",
       "        text-align: right;\n",
       "    }\n",
       "</style>\n",
       "<table border=\"1\" class=\"dataframe\">\n",
       "  <thead>\n",
       "    <tr style=\"text-align: right;\">\n",
       "      <th></th>\n",
       "      <th>24h High (USD)</th>\n",
       "      <th>24h Low (USD)</th>\n",
       "    </tr>\n",
       "  </thead>\n",
       "  <tbody>\n",
       "    <tr>\n",
       "      <th>0</th>\n",
       "      <td>0.056991</td>\n",
       "      <td>0.054280</td>\n",
       "    </tr>\n",
       "    <tr>\n",
       "      <th>1</th>\n",
       "      <td>0.057048</td>\n",
       "      <td>0.054240</td>\n",
       "    </tr>\n",
       "    <tr>\n",
       "      <th>2</th>\n",
       "      <td>0.060611</td>\n",
       "      <td>0.054703</td>\n",
       "    </tr>\n",
       "    <tr>\n",
       "      <th>3</th>\n",
       "      <td>0.063291</td>\n",
       "      <td>0.058582</td>\n",
       "    </tr>\n",
       "    <tr>\n",
       "      <th>4</th>\n",
       "      <td>0.059712</td>\n",
       "      <td>0.055022</td>\n",
       "    </tr>\n",
       "    <tr>\n",
       "      <th>...</th>\n",
       "      <td>...</td>\n",
       "      <td>...</td>\n",
       "    </tr>\n",
       "    <tr>\n",
       "      <th>87</th>\n",
       "      <td>0.377346</td>\n",
       "      <td>0.367013</td>\n",
       "    </tr>\n",
       "    <tr>\n",
       "      <th>88</th>\n",
       "      <td>0.380158</td>\n",
       "      <td>0.330394</td>\n",
       "    </tr>\n",
       "    <tr>\n",
       "      <th>89</th>\n",
       "      <td>0.342092</td>\n",
       "      <td>0.295684</td>\n",
       "    </tr>\n",
       "    <tr>\n",
       "      <th>90</th>\n",
       "      <td>0.354765</td>\n",
       "      <td>0.312722</td>\n",
       "    </tr>\n",
       "    <tr>\n",
       "      <th>91</th>\n",
       "      <td>0.345223</td>\n",
       "      <td>0.322838</td>\n",
       "    </tr>\n",
       "  </tbody>\n",
       "</table>\n",
       "<p>92 rows × 2 columns</p>\n",
       "</div>"
      ],
      "text/plain": [
       "    24h High (USD)  24h Low (USD)\n",
       "0         0.056991       0.054280\n",
       "1         0.057048       0.054240\n",
       "2         0.060611       0.054703\n",
       "3         0.063291       0.058582\n",
       "4         0.059712       0.055022\n",
       "..             ...            ...\n",
       "87        0.377346       0.367013\n",
       "88        0.380158       0.330394\n",
       "89        0.342092       0.295684\n",
       "90        0.354765       0.312722\n",
       "91        0.345223       0.322838\n",
       "\n",
       "[92 rows x 2 columns]"
      ]
     },
     "execution_count": 81,
     "metadata": {},
     "output_type": "execute_result"
    }
   ],
   "source": [
    "dataset = pd.read_csv('Dogecoin_Data.csv')\n",
    "dataset"
   ]
  },
  {
   "cell_type": "markdown",
   "metadata": {
    "id": "g_bLjKsJGveT"
   },
   "source": [
    "# New Section"
   ]
  },
  {
   "cell_type": "markdown",
   "metadata": {
    "id": "hMGb94_GrTmg"
   },
   "source": [
    "We used Describe function to get Summary Statistics for our chosen dataset so we can get to know more about our dataset."
   ]
  },
  {
   "cell_type": "code",
   "execution_count": 82,
   "metadata": {
    "colab": {
     "base_uri": "https://localhost:8080/",
     "height": 295
    },
    "id": "nNsDQ52ZrTmg",
    "outputId": "d5f43055-4026-44cf-e183-f856fa73be19"
   },
   "outputs": [
    {
     "data": {
      "text/html": [
       "<div>\n",
       "<style scoped>\n",
       "    .dataframe tbody tr th:only-of-type {\n",
       "        vertical-align: middle;\n",
       "    }\n",
       "\n",
       "    .dataframe tbody tr th {\n",
       "        vertical-align: top;\n",
       "    }\n",
       "\n",
       "    .dataframe thead th {\n",
       "        text-align: right;\n",
       "    }\n",
       "</style>\n",
       "<table border=\"1\" class=\"dataframe\">\n",
       "  <thead>\n",
       "    <tr style=\"text-align: right;\">\n",
       "      <th></th>\n",
       "      <th>24h High (USD)</th>\n",
       "      <th>24h Low (USD)</th>\n",
       "    </tr>\n",
       "  </thead>\n",
       "  <tbody>\n",
       "    <tr>\n",
       "      <th>count</th>\n",
       "      <td>92.000000</td>\n",
       "      <td>92.000000</td>\n",
       "    </tr>\n",
       "    <tr>\n",
       "      <th>mean</th>\n",
       "      <td>0.287538</td>\n",
       "      <td>0.230550</td>\n",
       "    </tr>\n",
       "    <tr>\n",
       "      <th>std</th>\n",
       "      <td>0.201541</td>\n",
       "      <td>0.156179</td>\n",
       "    </tr>\n",
       "    <tr>\n",
       "      <th>min</th>\n",
       "      <td>0.052467</td>\n",
       "      <td>0.049387</td>\n",
       "    </tr>\n",
       "    <tr>\n",
       "      <th>25%</th>\n",
       "      <td>0.062004</td>\n",
       "      <td>0.057089</td>\n",
       "    </tr>\n",
       "    <tr>\n",
       "      <th>50%</th>\n",
       "      <td>0.334971</td>\n",
       "      <td>0.254808</td>\n",
       "    </tr>\n",
       "    <tr>\n",
       "      <th>75%</th>\n",
       "      <td>0.415447</td>\n",
       "      <td>0.332182</td>\n",
       "    </tr>\n",
       "    <tr>\n",
       "      <th>max</th>\n",
       "      <td>0.740010</td>\n",
       "      <td>0.601952</td>\n",
       "    </tr>\n",
       "  </tbody>\n",
       "</table>\n",
       "</div>"
      ],
      "text/plain": [
       "       24h High (USD)  24h Low (USD)\n",
       "count       92.000000      92.000000\n",
       "mean         0.287538       0.230550\n",
       "std          0.201541       0.156179\n",
       "min          0.052467       0.049387\n",
       "25%          0.062004       0.057089\n",
       "50%          0.334971       0.254808\n",
       "75%          0.415447       0.332182\n",
       "max          0.740010       0.601952"
      ]
     },
     "execution_count": 82,
     "metadata": {},
     "output_type": "execute_result"
    }
   ],
   "source": [
    "dataset.describe()"
   ]
  },
  {
   "cell_type": "markdown",
   "metadata": {
    "id": "bva7n3OLgksA"
   },
   "source": [
    "From Pandas module we have Imported DataFrame and Created here two Varibale X and Y and Store values from both coloums seperatly of our dataset and also to access quickly data."
   ]
  },
  {
   "cell_type": "code",
   "execution_count": 83,
   "metadata": {
    "id": "8KIucowrrTmi"
   },
   "outputs": [],
   "source": [
    "X = DataFrame(dataset, columns = ['24h High (USD)'])\n",
    "Y = DataFrame(dataset, columns = ['24h Low (USD)'])"
   ]
  },
  {
   "cell_type": "code",
   "execution_count": 84,
   "metadata": {
    "colab": {
     "base_uri": "https://localhost:8080/",
     "height": 392
    },
    "id": "onP9f_pyOnjC",
    "outputId": "dcf46350-9905-4b93-fe24-10fe7cadb0a8"
   },
   "outputs": [
    {
     "data": {
      "text/plain": [
       "<seaborn.axisgrid.PairGrid at 0x2ddd60a16d0>"
      ]
     },
     "execution_count": 84,
     "metadata": {},
     "output_type": "execute_result"
    },
    {
     "data": {
      "image/png": "[encoded data removed]",
      "text/plain": [
       "<Figure size 360x360 with 6 Axes>"
      ]
     },
     "metadata": {},
     "output_type": "display_data"
    }
   ],
   "source": [
    "########## Using Pairplot to plot pairwise relationships in a dataset\n",
    "\n",
    "sns.pairplot(dataset)"
   ]
  },
  {
   "cell_type": "code",
   "execution_count": 85,
   "metadata": {
    "colab": {
     "base_uri": "https://localhost:8080/",
     "height": 589
    },
    "id": "0bR2vDlsrTmj",
    "outputId": "9627d990-7b42-4cbc-bc27-85b23040a879"
   },
   "outputs": [
    {
     "data": {
      "image/png": "[encoded data removed]",
      "text/plain": [
       "<Figure size 720x504 with 1 Axes>"
      ]
     },
     "metadata": {},
     "output_type": "display_data"
    }
   ],
   "source": [
    "######### Using Matplotlib to scatter datapoints and plot its distribution\n",
    "\n",
    "\n",
    "plt.figure(figsize=(10,7))\n",
    "plt.scatter(X,Y)\n",
    "plt.xlabel('24H High')\n",
    "plt.ylabel('24H Low')\n",
    "plt.title(\"Dogecoin Exponential Growth\")\n",
    "\n",
    "\n",
    "plt.show()"
   ]
  },
  {
   "cell_type": "markdown",
   "metadata": {
    "id": "94460721"
   },
   "source": [
    "Inserting data into linear model to calculate Regression with Help of sklearn library which vary helpful to handle data."
   ]
  },
  {
   "cell_type": "code",
   "execution_count": 86,
   "metadata": {
    "colab": {
     "base_uri": "https://localhost:8080/"
    },
    "id": "6tch2WmwrTmj",
    "outputId": "75c04f19-8232-48d7-b51c-2f0b6deedd31"
   },
   "outputs": [
    {
     "data": {
      "text/plain": [
       "LinearRegression()"
      ]
     },
     "execution_count": 86,
     "metadata": {},
     "output_type": "execute_result"
    }
   ],
   "source": [
    "##########3 Created regr variable to access LinearRegression across our model\n",
    "\n",
    "from sklearn.linear_model import LinearRegression\n",
    "regr = LinearRegression()\n",
    "regr.fit(X, Y)"
   ]
  },
  {
   "cell_type": "code",
   "execution_count": 87,
   "metadata": {
    "colab": {
     "base_uri": "https://localhost:8080/",
     "height": 282
    },
    "id": "Nz1KL25puTjI",
    "outputId": "7437f3f2-c4a6-442c-cbb6-02fd3136d6a1"
   },
   "outputs": [
    {
     "data": {
      "text/plain": [
       "<AxesSubplot:ylabel='Count'>"
      ]
     },
     "execution_count": 87,
     "metadata": {},
     "output_type": "execute_result"
    },
    {
     "data": {
      "image/png": "[encoded data removed]",
      "text/plain": [
       "<Figure size 432x288 with 1 Axes>"
      ]
     },
     "metadata": {},
     "output_type": "display_data"
    }
   ],
   "source": [
    "########### Ploting histograms to show distributions of datasets\n",
    "\n",
    "sns.histplot((Y - regr.predict(X)))\n"
   ]
  },
  {
   "cell_type": "code",
   "execution_count": 88,
   "metadata": {
    "colab": {
     "base_uri": "https://localhost:8080/",
     "height": 80
    },
    "id": "HVoVYRecrTmk",
    "outputId": "407af6e8-0a42-41d0-f7e7-b6926e99477b"
   },
   "outputs": [
    {
     "data": {
      "text/html": [
       "<div>\n",
       "<style scoped>\n",
       "    .dataframe tbody tr th:only-of-type {\n",
       "        vertical-align: middle;\n",
       "    }\n",
       "\n",
       "    .dataframe tbody tr th {\n",
       "        vertical-align: top;\n",
       "    }\n",
       "\n",
       "    .dataframe thead th {\n",
       "        text-align: right;\n",
       "    }\n",
       "</style>\n",
       "<table border=\"1\" class=\"dataframe\">\n",
       "  <thead>\n",
       "    <tr style=\"text-align: right;\">\n",
       "      <th></th>\n",
       "      <th>Coeffecient</th>\n",
       "    </tr>\n",
       "  </thead>\n",
       "  <tbody>\n",
       "    <tr>\n",
       "      <th>24h High (USD)</th>\n",
       "      <td>0.750286</td>\n",
       "    </tr>\n",
       "  </tbody>\n",
       "</table>\n",
       "</div>"
      ],
      "text/plain": [
       "                Coeffecient\n",
       "24h High (USD)     0.750286"
      ]
     },
     "execution_count": 88,
     "metadata": {},
     "output_type": "execute_result"
    }
   ],
   "source": [
    "########## finding coefficient with Sklearn \n",
    "\n",
    "pd.DataFrame(regr.coef_ , X.columns, columns=['Coeffecient'])"
   ]
  },
  {
   "cell_type": "code",
   "execution_count": 89,
   "metadata": {
    "colab": {
     "base_uri": "https://localhost:8080/",
     "height": 80
    },
    "id": "oEtj62FcrTml",
    "outputId": "00e63d85-e3a1-4744-f97a-a77223ce3983"
   },
   "outputs": [
    {
     "data": {
      "text/html": [
       "<div>\n",
       "<style scoped>\n",
       "    .dataframe tbody tr th:only-of-type {\n",
       "        vertical-align: middle;\n",
       "    }\n",
       "\n",
       "    .dataframe tbody tr th {\n",
       "        vertical-align: top;\n",
       "    }\n",
       "\n",
       "    .dataframe thead th {\n",
       "        text-align: right;\n",
       "    }\n",
       "</style>\n",
       "<table border=\"1\" class=\"dataframe\">\n",
       "  <thead>\n",
       "    <tr style=\"text-align: right;\">\n",
       "      <th></th>\n",
       "      <th>Regression Score</th>\n",
       "    </tr>\n",
       "  </thead>\n",
       "  <tbody>\n",
       "    <tr>\n",
       "      <th>24h High (USD)</th>\n",
       "      <td>0.937421</td>\n",
       "    </tr>\n",
       "  </tbody>\n",
       "</table>\n",
       "</div>"
      ],
      "text/plain": [
       "                Regression Score\n",
       "24h High (USD)          0.937421"
      ]
     },
     "execution_count": 89,
     "metadata": {},
     "output_type": "execute_result"
    }
   ],
   "source": [
    "########## estimating r square with sklearn\n",
    "\n",
    "pd.DataFrame(regr.score(X,Y), X.columns, columns=['Regression Score'])"
   ]
  },
  {
   "cell_type": "code",
   "execution_count": 90,
   "metadata": {
    "colab": {
     "base_uri": "https://localhost:8080/",
     "height": 80
    },
    "id": "4buEs7ZwjHJp",
    "outputId": "668825e2-db94-4730-bb69-03ce9cd9a0e9"
   },
   "outputs": [
    {
     "data": {
      "text/html": [
       "<div>\n",
       "<style scoped>\n",
       "    .dataframe tbody tr th:only-of-type {\n",
       "        vertical-align: middle;\n",
       "    }\n",
       "\n",
       "    .dataframe tbody tr th {\n",
       "        vertical-align: top;\n",
       "    }\n",
       "\n",
       "    .dataframe thead th {\n",
       "        text-align: right;\n",
       "    }\n",
       "</style>\n",
       "<table border=\"1\" class=\"dataframe\">\n",
       "  <thead>\n",
       "    <tr style=\"text-align: right;\">\n",
       "      <th></th>\n",
       "      <th>Intercept</th>\n",
       "    </tr>\n",
       "  </thead>\n",
       "  <tbody>\n",
       "    <tr>\n",
       "      <th>24h High (USD)</th>\n",
       "      <td>0.014814</td>\n",
       "    </tr>\n",
       "  </tbody>\n",
       "</table>\n",
       "</div>"
      ],
      "text/plain": [
       "                Intercept\n",
       "24h High (USD)   0.014814"
      ]
     },
     "execution_count": 90,
     "metadata": {},
     "output_type": "execute_result"
    }
   ],
   "source": [
    "############ finding Intercept with sklearn\n",
    "\n",
    "pd.DataFrame(regr.intercept_ , X.columns, columns=['Intercept'])"
   ]
  },
  {
   "cell_type": "code",
   "execution_count": 91,
   "metadata": {
    "colab": {
     "base_uri": "https://localhost:8080/",
     "height": 391
    },
    "id": "54ZSL1iSrTml",
    "outputId": "1161a347-d5e2-4db0-9142-fb9344361309"
   },
   "outputs": [
    {
     "data": {
      "image/png": "[encoded data removed]",
      "text/plain": [
       "<Figure size 720x504 with 1 Axes>"
      ]
     },
     "metadata": {},
     "output_type": "display_data"
    }
   ],
   "source": [
    "####### Plotting regression line and scattering datapoints with matplotlib\n",
    "\n",
    "\n",
    "plt.figure(figsize = (10,7))\n",
    "plt.scatter(X, Y) \n",
    "plt.plot(X, regr.predict(X))\n",
    "plt.xlabel('24H High')\n",
    "plt.ylabel('24H Low')\n",
    "plt.title('Dogecoin Exponantial Growth')\n",
    "\n",
    "plt.show()"
   ]
  },
  {
   "cell_type": "markdown",
   "metadata": {
    "id": "5bd0209f"
   },
   "source": [
    "Using Statsmodel api libary to get complete statistical insights and than we used The summary() method to obtain a table which gives an extensive description about the regression results of our chosen dataset."
   ]
  },
  {
   "cell_type": "code",
   "execution_count": 92,
   "metadata": {
    "colab": {
     "base_uri": "https://localhost:8080/"
    },
    "id": "CHGDqUV6rTmm",
    "outputId": "d5305c71-ee61-48d6-d044-92e6d7849101"
   },
   "outputs": [
    {
     "name": "stdout",
     "output_type": "stream",
     "text": [
      "                                 OLS Regression Results                                \n",
      "=======================================================================================\n",
      "Dep. Variable:         24h High (USD)   R-squared (uncentered):                   0.980\n",
      "Model:                            OLS   Adj. R-squared (uncentered):              0.979\n",
      "Method:                 Least Squares   F-statistic:                              4355.\n",
      "Date:                Sun, 20 Jun 2021   Prob (F-statistic):                    1.20e-78\n",
      "Time:                        20:32:40   Log-Likelihood:                          144.80\n",
      "No. Observations:                  92   AIC:                                     -287.6\n",
      "Df Residuals:                      91   BIC:                                     -285.1\n",
      "Df Model:                           1                                                  \n",
      "Covariance Type:            nonrobust                                                  \n",
      "=================================================================================\n",
      "                    coef    std err          t      P>|t|      [0.025      0.975]\n",
      "---------------------------------------------------------------------------------\n",
      "24h Low (USD)     1.2479      0.019     65.996      0.000       1.210       1.285\n",
      "==============================================================================\n",
      "Omnibus:                       58.239   Durbin-Watson:                   1.317\n",
      "Prob(Omnibus):                  0.000   Jarque-Bera (JB):              217.137\n",
      "Skew:                           2.162   Prob(JB):                     7.07e-48\n",
      "Kurtosis:                       9.160   Cond. No.                         1.00\n",
      "==============================================================================\n",
      "\n",
      "Notes:\n",
      "[1] R² is computed without centering (uncentered) since the model does not contain a constant.\n",
      "[2] Standard Errors assume that the covariance matrix of the errors is correctly specified.\n"
     ]
    }
   ],
   "source": [
    "import statsmodels.api as sm\n",
    "\n",
    "mod = sm.OLS(X, Y) #Load data\n",
    "\n",
    "res = mod.fit() #Fit regression model\n",
    "\n",
    "print(res.summary())"
   ]
  },
  {
   "cell_type": "code",
   "execution_count": 93,
   "metadata": {
    "colab": {
     "base_uri": "https://localhost:8080/"
    },
    "id": "z8QhR3ZhuTUr",
    "outputId": "54732d57-4fce-4d2a-dafd-f78394a2e511"
   },
   "outputs": [
    {
     "name": "stdout",
     "output_type": "stream",
     "text": [
      "MAE: 0.02548145003235742\n",
      "MSE: 0.0015098262001597563\n",
      "RMSE: 0.038856482086773586\n"
     ]
    }
   ],
   "source": [
    "import sklearn.metrics as metrics\n",
    "\n",
    "\n",
    "print('MAE: {}'.format(metrics.mean_absolute_error(Y, regr.predict(X)))) #Mean absolute error\n",
    "print('MSE: {}'.format(metrics.mean_squared_error(Y, regr.predict(X)))) #Mean Squared Error\n",
    "print('RMSE: {}'.format(np.sqrt(metrics.mean_squared_error(Y, regr.predict(X))))) #Root Mean Squared Error"
   ]
  },
  {
   "cell_type": "markdown",
   "metadata": {
    "id": "i84uL50vrTmn"
   },
   "source": [
    "Conclusion:\n",
    "    \n",
    "Regression score we predicted for our model tell us about total 93% of variation of price of Dogecoin in 3 months.\n",
    "    \n",
    "Coeffecient we predicted is 0.750286 gives us the direction of effect which is positive so we can interpret the price for dependent variable has increased by coeffecient of independent variable.\n",
    "    \n",
    "The intercept of the regression line is just the predicted value for y, when x is 0 where we predict our Intercept is 0.014814.\n",
    "\n",
    "The average set of errors(MSE) for our model we predicted is 0.0015098.\n",
    "\n",
    "The conctrated data around the best fit line(RMSE) in our model we predicted is 0.03885.\n",
    "\n",
    "The Mean absolute error we measure is 0.02548 tell us about average magnitude of the errors in a set of forecasts, without considering their direction and the accuracy of continuos variable."
   ]
  },
  {
   "cell_type": "markdown",
   "metadata": {},
   "source": [
    "Reference:\n",
    "\n",
    "https://realpython.com/linear-regression-in-python/?fbclid=IwAR3lp5RMNNHUexG-9luz_XEQ2XDlZNGKu9-zsbm9fKYDFyfzfO3O0rHgYok\n",
    "\n",
    "https://towardsdatascience.com/linear-regression-using-python-b136c91bf0a2"
   ]
  }
 ],
 "metadata": {
  "colab": {
   "name": "asil (1).ipynb",
   "provenance": []
  },
  "kernelspec": {
   "display_name": "Python 3",
   "language": "python",
   "name": "python3"
  },
  "language_info": {
   "codemirror_mode": {
    "name": "ipython",
    "version": 3
   },
   "file_extension": ".py",
   "mimetype": "text/x-python",
   "name": "python",
   "nbconvert_exporter": "python",
   "pygments_lexer": "ipython3",
   "version": "3.8.5"
  }
 },
 "nbformat": 4,
 "nbformat_minor": 5
}
